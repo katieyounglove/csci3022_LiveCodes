{
 "cells": [
  {
   "cell_type": "markdown",
   "metadata": {},
   "source": [
    "![igfam.jpg](igfam.jpg)"
   ]
  },
  {
   "cell_type": "code",
   "execution_count": 1,
   "metadata": {
    "ExecuteTime": {
     "end_time": "2018-03-23T10:01:12.189484Z",
     "start_time": "2018-03-23T10:01:05.027312Z"
    }
   },
   "outputs": [
    {
     "data": {
      "text/html": [
       "<style>.container { width:85% !important; }</style>"
      ],
      "text/plain": [
       "<IPython.core.display.HTML object>"
      ]
     },
     "metadata": {},
     "output_type": "display_data"
    }
   ],
   "source": [
    "import pandas as pd\n",
    "import numpy as np\n",
    "import matplotlib.pylab as plt\n",
    "from scipy.stats import norm\n",
    "from IPython.display import Markdown, display\n",
    "\n",
    "from IPython.display import display, HTML, Latex\n",
    "display(HTML(\"<style>.container { width:85% !important; }</style>\"))\n",
    "\n",
    "%matplotlib inline"
   ]
  },
  {
   "cell_type": "markdown",
   "metadata": {},
   "source": [
    "## Get Some Data!\n",
    "* Where to get data\n",
    "* What to look for in data\n",
    "* Is it important?"
   ]
  },
  {
   "cell_type": "code",
   "execution_count": 2,
   "metadata": {
    "ExecuteTime": {
     "end_time": "2018-03-23T10:01:12.196980Z",
     "start_time": "2018-03-23T10:01:12.191967Z"
    }
   },
   "outputs": [],
   "source": [
    "def get_data():\n",
    "    df = []\n",
    "    return df\n",
    "\n",
    "df = get_data()"
   ]
  },
  {
   "cell_type": "markdown",
   "metadata": {},
   "source": [
    "## Dataset Info\n",
    "* Columns\n",
    "* Size\n",
    "* Start Getting _Ideas_\n"
   ]
  },
  {
   "cell_type": "code",
   "execution_count": null,
   "metadata": {},
   "outputs": [],
   "source": []
  },
  {
   "cell_type": "code",
   "execution_count": 3,
   "metadata": {
    "ExecuteTime": {
     "end_time": "2018-03-23T10:01:12.208013Z",
     "start_time": "2018-03-23T10:01:12.198989Z"
    }
   },
   "outputs": [],
   "source": [
    "# make_hist()"
   ]
  },
  {
   "cell_type": "code",
   "execution_count": 4,
   "metadata": {
    "ExecuteTime": {
     "end_time": "2018-03-23T10:01:12.225059Z",
     "start_time": "2018-03-23T10:01:12.210019Z"
    },
    "collapsed": true
   },
   "outputs": [],
   "source": [
    "# Discrete"
   ]
  },
  {
   "cell_type": "code",
   "execution_count": 5,
   "metadata": {
    "ExecuteTime": {
     "end_time": "2018-03-23T10:01:12.239096Z",
     "start_time": "2018-03-23T10:01:12.227066Z"
    },
    "collapsed": true
   },
   "outputs": [],
   "source": [
    "# Continuous???"
   ]
  },
  {
   "cell_type": "markdown",
   "metadata": {},
   "source": [
    "# Getting More Information"
   ]
  },
  {
   "cell_type": "code",
   "execution_count": 6,
   "metadata": {
    "ExecuteTime": {
     "end_time": "2018-03-23T10:01:12.258147Z",
     "start_time": "2018-03-23T10:01:12.242105Z"
    }
   },
   "outputs": [],
   "source": [
    "# Clicky vs Salary"
   ]
  },
  {
   "cell_type": "code",
   "execution_count": 7,
   "metadata": {
    "ExecuteTime": {
     "end_time": "2018-03-23T10:01:12.273195Z",
     "start_time": "2018-03-23T10:01:12.261154Z"
    },
    "scrolled": false
   },
   "outputs": [],
   "source": [
    "# Gif vs Salary"
   ]
  },
  {
   "cell_type": "code",
   "execution_count": 8,
   "metadata": {
    "ExecuteTime": {
     "end_time": "2018-03-23T10:01:12.294754Z",
     "start_time": "2018-03-23T10:01:12.276196Z"
    }
   },
   "outputs": [],
   "source": [
    "# Things vs Salary"
   ]
  },
  {
   "cell_type": "markdown",
   "metadata": {},
   "source": [
    "### [30 points] Problem 2: Gender Balance in Movements Between Academic Disciplines\n",
    "***\n",
    "\n",
    "Every year, the online academic resume service, ORCID, dumps the data from all of the professors who have their privacy settings set to “public” so that the research community can learn about the makeup of the academic workforce. In this real-data problem, we’re going to study the flows of professors between different academic fields to learn about gender differences. We’ll use a pre-processed dataset used by actual researchers studying gender imbalance across fields.\n",
    "\n",
    "First, some information about the data. For each of the 1.6 million professors in the public ORCID data dump, the researchers determined (a) what field they are currently in, (b) what field they did their PhD in, and (c) their gender. Here, because the goal of the study was originally to learn about disparities between men and women, gender was coded by the researchers as male or female, as indicated by the professors. Those who chose not to mark their gender as public were not included in the processed dataset.\n",
    "\n",
    "The researchers have provided CSCI 3022 with two files: **totals.csv** and **switch_edgelist.csv**. The first file enumerates the total numbers of men and women in each of $30$ different fields. The second file enumerates the total numbers of men and women who switched from one field to another field during their career.\n",
    "\n",
    "The null hypothesis about the data is that the gender balance of people leaving field $X$ is the same as the gender balance in field $X$. For example, if Anthropology is $50\\%$ women and $50\\%$ men, we expect people who have moved from Anthropology to another field to reflect this $50/50$ balance. On the other hand, if Physics is only $15\\%$ women and $85\\%$ men, we expect people who have moved from Physics to another field to reflect a $15/85$ balance.\n",
    "\n",
    "In symbolic form, we might write this as follows. Let the proportion of professors in field i who are women be given by $p_i$, and let the proportion of women who move from field i to some other field be given by $q_i$. Then the expected result is that $p_i$ = $q_i$. The researchers are interested to know if there is statistical evidence that $p_i \\neq q_i$ for any of the fields $i$."
   ]
  },
  {
   "cell_type": "markdown",
   "metadata": {},
   "source": [
    "**Part A**: Wrangle those data files. Then, make a plot of $p_i$ for all $i = 1, 2, \\ldots, 30$ fields using a green color, and on the same axes, plot $q_i$ using a blue color."
   ]
  },
  {
   "cell_type": "code",
   "execution_count": 9,
   "metadata": {
    "ExecuteTime": {
     "end_time": "2018-03-23T10:01:12.337372Z",
     "start_time": "2018-03-23T10:01:12.297758Z"
    }
   },
   "outputs": [],
   "source": [
    "def two_a(ret, graph):\n",
    "    totals = pd.read_csv(\"totals.csv\")\n",
    "    edge_list = pd.read_csv(\"switch_edgelist.csv\")\n",
    "    \n",
    "    # First we want to get the unique fields\n",
    "    unique_fields = []\n",
    "    \n",
    "    # Set up information containers\n",
    "    \n",
    "    for field in unique_fields:\n",
    "        # Select the male count in the given field\n",
    "\n",
    "        # Select the female count in the given field\n",
    "\n",
    "        # Get the sum of the counts\n",
    "\n",
    "        # Log the total of the population\n",
    "\n",
    "        # Log the ratio of females to population\n",
    "        \n",
    "        continue\n",
    "        \n",
    "    for field in unique_fields:\n",
    "\n",
    "        # Since there can be more than one link from the given field, we need to iterate through all of them\n",
    "\n",
    "            # Get the running sum of females who left from that field (doesn't matter which field they went to)\n",
    "\n",
    "        # Since there can be more than one link from the given field, we need to iterate through all of them\n",
    "\n",
    "            # Get the running sum of males who left from that field (doesn't matter which field they went to)\n",
    "\n",
    "        # Get the sum of populations\n",
    "\n",
    "        # Log the total of the population\n",
    "\n",
    "        # Log the ratio of females to population\n",
    "        \n",
    "        continue\n",
    "    '''\n",
    "    if graph:\n",
    "        # Do Graph Stuff\n",
    "        fig, ax = plt.subplots(figsize=(16,12))\n",
    "        ax.plot(range(1,31), gender_ratios, 'o', label=\"Gender Ratios\", color=\"green\")\n",
    "        ax.plot(range(1,31), retention_ratios, 'o', label=\"Exiting Ratios\", color=\"blue\")\n",
    "\n",
    "        ax.grid(alpha=0.25)\n",
    "        plt.xticks(range(1,31), unique_fields, rotation='vertical')\n",
    "        ax.set_axisbelow(True)\n",
    "        ax.legend()\n",
    "        ax.set_title(\"Ratios of (Women)/(Field Population) Graphed with the Ratios of (Women Leaving)/(Field Population Leaving) for the Same Field\")\n",
    "        ax.set_ylabel(\"Percentage\")\n",
    "        plt.show()\n",
    "    '''\n",
    "    if ret:\n",
    "        return gender_ratios, retention_ratios, gender_populations, retention_populations, unique_fields\n",
    "\n",
    "two_a(ret=False, graph=False)"
   ]
  },
  {
   "cell_type": "markdown",
   "metadata": {},
   "source": [
    "**Part B**: At the $\\alpha = 0.05$ significance level, use the method of your choice to determine whether there is sufficient evidence that $p_i \\neq q_i$. Be sure to explain why you are justified in using the method that you used, and report the numbers that helped you make your decision for each of the fields. Please use only methods we have discussed in class. Then, replicate your plot from **Part A** and add a red symbol to those fields, if any, where $p_i$ and $q_i$ are statistically different at the given significance level. Comment on any significant findings.  "
   ]
  },
  {
   "cell_type": "code",
   "execution_count": 10,
   "metadata": {
    "ExecuteTime": {
     "end_time": "2018-03-23T10:01:12.364438Z",
     "start_time": "2018-03-23T10:01:12.340375Z"
    }
   },
   "outputs": [],
   "source": [
    "def two_b(z_alpha):\n",
    "    gender_ratios, retention_ratios, gender_populations, retention_populations, fields = [[], [], [], [], 0] #two_a(True, False)\n",
    "    \n",
    "    # Create Information Variables\n",
    "    \n",
    "    # Calculate Z val once because it won't change from test to test\n",
    "    \n",
    "    for i in range(fields):\n",
    "        \n",
    "        # Pull information from arrays\n",
    "        \n",
    "        # Calculate Difference of Means for Comparison of Population Proportions\n",
    "        \n",
    "        # Calculate Standard Deviation for Comparison of Population Proportions\n",
    "        \n",
    "        # Get lower bound of confidence interval\n",
    "        \n",
    "        # Get upper bound of confidence interval\n",
    "        \n",
    "        # Check to see if our confidence interval really matters (if it contains 0 they're not sufficiently different)\n",
    "        \n",
    "        continue\n",
    "\n",
    "    \n",
    "    # Do Graph Stuff\n",
    "    '''\n",
    "    fig, ax = plt.subplots(figsize=(16,12))\n",
    "    \n",
    "    for x in range(len(different)):\n",
    "        if different[x] == 1:\n",
    "            ax.axvline(x+1, color=\"red\", linewidth=0.5)\n",
    "    \n",
    "    ax.plot(range(1,31), gender_ratios, 'o', label=\"Gender Ratios\", color=\"green\")\n",
    "    ax.plot(range(1,31), retention_ratios, 'o', label=\"Exiting Ratios\", color=\"blue\")\n",
    "\n",
    "    ax.grid(alpha=0.25)\n",
    "    plt.xticks(range(1,31), fields, rotation='vertical') # Change it so that labels are colored, not dots\n",
    "    ax.set_axisbelow(True)\n",
    "    ax.legend()\n",
    "    ax.set_title(\"Ratios of (Women)/(Field Population) Graphed with the Ratios of (Women Leaving)/(Field Population Leaving) for the Same Fields\")\n",
    "    ax.set_ylabel(\"Percentage\")\n",
    "    plt.show()\n",
    "    '''\n",
    "    \n",
    "two_b(.05)"
   ]
  },
  {
   "cell_type": "markdown",
   "metadata": {},
   "source": [
    "**Part C**: Repeat the procedure from **Part B** at the $\\alpha = 0.01$ level. "
   ]
  },
  {
   "cell_type": "code",
   "execution_count": 11,
   "metadata": {
    "ExecuteTime": {
     "end_time": "2018-03-23T10:01:12.377473Z",
     "start_time": "2018-03-23T10:01:12.366443Z"
    }
   },
   "outputs": [],
   "source": [
    "two_b(.01)"
   ]
  },
  {
   "cell_type": "code",
   "execution_count": null,
   "metadata": {
    "collapsed": true
   },
   "outputs": [],
   "source": []
  }
 ],
 "metadata": {
  "kernelspec": {
   "display_name": "Python 3",
   "language": "python",
   "name": "python3"
  },
  "language_info": {
   "codemirror_mode": {
    "name": "ipython",
    "version": 3
   },
   "file_extension": ".py",
   "mimetype": "text/x-python",
   "name": "python",
   "nbconvert_exporter": "python",
   "pygments_lexer": "ipython3",
   "version": "3.6.3"
  }
 },
 "nbformat": 4,
 "nbformat_minor": 2
}
