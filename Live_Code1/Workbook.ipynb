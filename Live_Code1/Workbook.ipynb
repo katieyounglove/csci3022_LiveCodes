{
 "cells": [
  {
   "cell_type": "code",
   "execution_count": 1,
   "metadata": {
    "collapsed": true
   },
   "outputs": [],
   "source": [
    "import pandas as pd\n",
    "import numpy as np\n",
    "import matplotlib.pylab as plt\n",
    "from IPython.display import Markdown, display\n",
    "\n",
    "def pretty_print(df):\n",
    "    fmt = ['---' for i in range(len(df.columns))]\n",
    "    df_fmt = pd.DataFrame([fmt], columns=df.columns)\n",
    "    df_formatted = pd.concat([df_fmt, df])\n",
    "    display(Markdown(df_formatted.to_csv(sep=\"|\", index=False)))\n",
    "\n",
    "%matplotlib inline"
   ]
  },
  {
   "cell_type": "code",
   "execution_count": 2,
   "metadata": {},
   "outputs": [
    {
     "data": {
      "text/html": [
       "<div>\n",
       "<style>\n",
       "    .dataframe thead tr:only-child th {\n",
       "        text-align: right;\n",
       "    }\n",
       "\n",
       "    .dataframe thead th {\n",
       "        text-align: left;\n",
       "    }\n",
       "\n",
       "    .dataframe tbody tr th {\n",
       "        vertical-align: top;\n",
       "    }\n",
       "</style>\n",
       "<table border=\"1\" class=\"dataframe\">\n",
       "  <thead>\n",
       "    <tr style=\"text-align: right;\">\n",
       "      <th></th>\n",
       "      <th>name</th>\n",
       "      <th>main_category</th>\n",
       "      <th>currency</th>\n",
       "      <th>goal</th>\n",
       "      <th>pledged</th>\n",
       "      <th>state</th>\n",
       "      <th>backers</th>\n",
       "      <th>country</th>\n",
       "      <th>usd pledged</th>\n",
       "      <th>usd_pledged_real</th>\n",
       "    </tr>\n",
       "  </thead>\n",
       "  <tbody>\n",
       "    <tr>\n",
       "      <th>1</th>\n",
       "      <td>Greeting From Earth: ZGAC Arts Capsule For ET</td>\n",
       "      <td>Film &amp; Video</td>\n",
       "      <td>USD</td>\n",
       "      <td>30000.0</td>\n",
       "      <td>2421.0</td>\n",
       "      <td>failed</td>\n",
       "      <td>15.0</td>\n",
       "      <td>US</td>\n",
       "      <td>100.0</td>\n",
       "      <td>2421.0</td>\n",
       "    </tr>\n",
       "    <tr>\n",
       "      <th>3</th>\n",
       "      <td>ToshiCapital Rekordz Needs Help to Complete Album</td>\n",
       "      <td>Music</td>\n",
       "      <td>USD</td>\n",
       "      <td>5000.0</td>\n",
       "      <td>1.0</td>\n",
       "      <td>failed</td>\n",
       "      <td>1.0</td>\n",
       "      <td>US</td>\n",
       "      <td>1.0</td>\n",
       "      <td>1.0</td>\n",
       "    </tr>\n",
       "    <tr>\n",
       "      <th>4</th>\n",
       "      <td>Community Film Project: The Art of Neighborhoo...</td>\n",
       "      <td>Film &amp; Video</td>\n",
       "      <td>USD</td>\n",
       "      <td>19500.0</td>\n",
       "      <td>1283.0</td>\n",
       "      <td>canceled</td>\n",
       "      <td>14.0</td>\n",
       "      <td>US</td>\n",
       "      <td>1283.0</td>\n",
       "      <td>1283.0</td>\n",
       "    </tr>\n",
       "  </tbody>\n",
       "</table>\n",
       "</div>"
      ],
      "text/plain": [
       "                                                name main_category currency  \\\n",
       "1      Greeting From Earth: ZGAC Arts Capsule For ET  Film & Video      USD   \n",
       "3  ToshiCapital Rekordz Needs Help to Complete Album         Music      USD   \n",
       "4  Community Film Project: The Art of Neighborhoo...  Film & Video      USD   \n",
       "\n",
       "      goal  pledged     state  backers country  usd pledged  usd_pledged_real  \n",
       "1  30000.0   2421.0    failed     15.0      US        100.0            2421.0  \n",
       "3   5000.0      1.0    failed      1.0      US          1.0               1.0  \n",
       "4  19500.0   1283.0  canceled     14.0      US       1283.0            1283.0  "
      ]
     },
     "execution_count": 2,
     "metadata": {},
     "output_type": "execute_result"
    }
   ],
   "source": [
    "def get_clean(isVerbose=False):\n",
    "    df = pd.read_csv(\"dirtyks.csv\")\n",
    "    \n",
    "    if isVerbose:\n",
    "        print(df.head(3))\n",
    "    \n",
    "    df[\"country\"] = df[\"country\"].replace('N,0\"', np.nan)\n",
    "    # We don't want no weird country\n",
    "    df[\"goal\"] = df[\"goal\"].replace(-1, np.nan)\n",
    "    # How do you even have a goal that's negative????\n",
    "    df[\"currency\"] = df[\"currency\"].replace(\"bitcoin\", np.nan)\n",
    "    # just. no.\n",
    "    df[\"state\"] = df[\"state\"].replace([\"Kyle\", \"undefined\"], np.nan)\n",
    "    # I'm not even a state! and what does it mean to be undefined???\n",
    "    #df[\"state\"] = df[\"state\"].replace(\"undefined\", np.nan) # see above\n",
    "        \n",
    "    clean = df[[\"name\", \"main_category\", \"currency\", \"goal\", \"pledged\", \"state\", \"backers\", \"country\", \"usd pledged\", \"usd_pledged_real\"]]\n",
    "    \n",
    "    clean = clean.dropna()\n",
    "        \n",
    "    return clean\n",
    "    # We just want to make sure we can use it elsewhere\n",
    "\n",
    "get_clean().head(3)"
   ]
  },
  {
   "cell_type": "code",
   "execution_count": 3,
   "metadata": {},
   "outputs": [
    {
     "name": "stdout",
     "output_type": "stream",
     "text": [
      "=========== MAXES ===========\n"
     ]
    },
    {
     "data": {
      "text/markdown": [
       "name|main_category|currency|goal|pledged|state|backers|country|usd pledged|usd_pledged_real\n",
       "---|---|---|---|---|---|---|---|---|---\n",
       "Electric Car|Technology|MXN|40000000.0|510.0|failed|2.0|MX|0.0|28.86574598143536\n"
      ],
      "text/plain": [
       "<IPython.core.display.Markdown object>"
      ]
     },
     "metadata": {},
     "output_type": "display_data"
    },
    {
     "data": {
      "text/markdown": [
       "name|main_category|currency|goal|pledged|state|backers|country|usd pledged|usd_pledged_real\n",
       "---|---|---|---|---|---|---|---|---|---\n",
       "Redefining Italian Luxury Watches - Filippo Loreti|Design|EUR|20000.0|4809548.0|successful|18550.0|NL|239150.72109454|5020667.049428469\n"
      ],
      "text/plain": [
       "<IPython.core.display.Markdown object>"
      ]
     },
     "metadata": {},
     "output_type": "display_data"
    },
    {
     "name": "stdout",
     "output_type": "stream",
     "text": [
      "\n",
      "======== MAX PROFITS ========\n"
     ]
    },
    {
     "data": {
      "text/markdown": [
       "name|main_category|country|state\n",
       "---|---|---|---\n",
       "Redefining Italian Luxury Watches - Filippo Loreti|Design|NL|successful\n"
      ],
      "text/plain": [
       "<IPython.core.display.Markdown object>"
      ]
     },
     "metadata": {},
     "output_type": "display_data"
    },
    {
     "data": {
      "text/markdown": [
       "name|main_category|country|state\n",
       "---|---|---|---\n",
       "Pimax: The World's First 8K VR Headset|Technology|US|successful\n"
      ],
      "text/plain": [
       "<IPython.core.display.Markdown object>"
      ]
     },
     "metadata": {},
     "output_type": "display_data"
    },
    {
     "data": {
      "text/markdown": [
       "name|main_category|country|state\n",
       "---|---|---|---\n",
       "3Doodler: The World's First 3D Printing Pen|Technology|US|successful\n"
      ],
      "text/plain": [
       "<IPython.core.display.Markdown object>"
      ]
     },
     "metadata": {},
     "output_type": "display_data"
    },
    {
     "data": {
      "text/markdown": [
       "name|main_category|country|state\n",
       "---|---|---|---\n",
       "\"Polygons | The Flat 4-in-1 Measuring Spoon\"|Design|US|successful\n"
      ],
      "text/plain": [
       "<IPython.core.display.Markdown object>"
      ]
     },
     "metadata": {},
     "output_type": "display_data"
    },
    {
     "data": {
      "text/markdown": [
       "name|main_category|country|state\n",
       "---|---|---|---\n",
       "\"Air Bonsai | Create your \"\"little star\"\"\"|Design|US|successful\n"
      ],
      "text/plain": [
       "<IPython.core.display.Markdown object>"
      ]
     },
     "metadata": {},
     "output_type": "display_data"
    },
    {
     "name": "stdout",
     "output_type": "stream",
     "text": [
      "\n",
      "====== COUNTRY PROFITS ======\n",
      "CA made 799964.9410524822 overall.\n",
      "DE made 628978.0733471175 overall.\n",
      "BE made 36169.64389919874 overall.\n",
      "SE made 48173.30124908796 overall.\n",
      "MX made 15542.153732584007 overall.\n",
      "CH made 89652.75072388261 overall.\n",
      "AU made 394290.0627140264 overall.\n",
      "AT made 1198.8891633657431 overall.\n",
      "IT made 77988.7990548545 overall.\n",
      "US made 35854641.499999985 overall.\n",
      "GB made 2586209.3129510107 overall.\n",
      "DK made 20366.348309474175 overall.\n",
      "NO made 30987.80003004175 overall.\n",
      "FR made 140574.58029193472 overall.\n",
      "ES made 139756.29156425706 overall.\n",
      "NZ made 148839.72202166374 overall.\n",
      "SG made 17847.439135524684 overall.\n",
      "IE made 143652.4037052649 overall.\n",
      "HK made 322155.2789659084 overall.\n",
      "LU made 8612.5465355337 overall.\n",
      "NL made 5153428.678031165 overall.\n",
      "\n",
      "========COUNTRY COMPR========\n",
      "The US made 35854641.499999985\n",
      "The other countries made 10804389.016478376\n"
     ]
    }
   ],
   "source": [
    "def examine(isVerbose=False):\n",
    "    df = get_clean()\n",
    "    \n",
    "    #largest asking amount\n",
    "    #largest difference between goal and pledged\n",
    "    #which countries earn the most kickstarter money\n",
    "    \n",
    "    max_goal = df[\"goal\"].max()\n",
    "    \n",
    "    max_goal_entry = df.loc[df[\"goal\"] == max_goal]\n",
    "    \n",
    "    max_pledged = df[\"usd_pledged_real\"].max()\n",
    "    \n",
    "    max_pledged_entry = df.loc[df[\"usd_pledged_real\"] == max_pledged]\n",
    "    # Note max pledged in USD\n",
    "    \n",
    "    df[\"profit\"] = df[\"pledged\"] - df[\"goal\"]\n",
    "    \n",
    "    max_profits = df[\"profit\"].nlargest(5)\n",
    "    # Largest profit in projects currency\n",
    "    \n",
    "    if isVerbose:\n",
    "        print(\"=========== MAXES ===========\")\n",
    "        pretty_print(max_goal_entry)\n",
    "        pretty_print(max_pledged_entry)\n",
    "        print()\n",
    "        print(\"======== MAX PROFITS ========\")\n",
    "        for number in max_profits:\n",
    "            pretty_print(df.loc[df[\"profit\"] == number, [\"name\", \"main_category\", \"country\", \"state\"]])\n",
    "\n",
    "    countries = set(df[\"country\"])\n",
    "    \n",
    "    US_amnt = 0\n",
    "    other_amnt = 0\n",
    "    \n",
    "    if isVerbose:\n",
    "        print()\n",
    "        print(\"====== COUNTRY PROFITS ======\")\n",
    "    \n",
    "    for country_name in countries:\n",
    "        amnt = df.loc[df[\"country\"] == country_name, \"usd_pledged_real\"].sum()\n",
    "        if country_name == \"US\":\n",
    "            US_amnt = amnt\n",
    "        else:\n",
    "            other_amnt += amnt\n",
    "        if isVerbose:\n",
    "            print(\"{} made {} overall.\".format(country_name, amnt))\n",
    "    \n",
    "    if isVerbose:\n",
    "        print()\n",
    "        print(\"========COUNTRY COMPR========\")\n",
    "        print(\"The US made {}\".format(US_amnt))\n",
    "        print(\"The other countries made {}\".format(other_amnt))\n",
    "    \n",
    "    # Ratio of total profit to countries worth??\n",
    "    # Expanding on current data is good! Use multiple datasets together to get something interesting like relations!\n",
    "    \n",
    "examine(True)"
   ]
  },
  {
   "cell_type": "markdown",
   "metadata": {
    "collapsed": true
   },
   "source": [
    "Note that the other countries net gain is not exactly correct because it's not in USD"
   ]
  },
  {
   "cell_type": "markdown",
   "metadata": {},
   "source": [
    "# Tictactoe\n",
    "\n",
    "\n",
    "## One Game\n",
    "We want to get a board\n",
    "### Players turn\n",
    "* find empty spots\n",
    "* pick a spot randomly\n",
    "* check to see if player won\n",
    "\n",
    "### End Scenario\n",
    "* p1 wins\n",
    "* p2 wins\n",
    "* scratch\n",
    "\n",
    "## Simulation\n",
    "\n",
    "* get a number of times to simulate\n",
    "* store wins for each player"
   ]
  },
  {
   "cell_type": "code",
   "execution_count": 4,
   "metadata": {},
   "outputs": [
    {
     "name": "stdout",
     "output_type": "stream",
     "text": [
      "p1 won 7139 out of 12345\n",
      "p2 won 3620 out of 12345\n",
      "The game ended in a draw 1586 out of 12345\n",
      "\n",
      "p1   won 57.829 percent of the time\n",
      "p2   won 29.324 percent of the time\n",
      "draw won 12.847 percent of the time\n"
     ]
    }
   ],
   "source": [
    "def tictactoe(iterations=1000):\n",
    "    def player_move(player, board, open_spots):\n",
    "        move = np.random.choice(open_spots)\n",
    "        open_spots.remove(move)\n",
    "        board[move] = player\n",
    "        return board, open_spots\n",
    "        \n",
    "    def win_check(board):\n",
    "        win_scenarios = ((0,1,2), (3,4,5), (6,7,8), (0,3,6), (1,4,7), (2,5,8), (0,4,8), (2,4,6))\n",
    "        for scenario in win_scenarios:\n",
    "            if board[scenario[0]] == board[scenario[1]] == board[scenario[2]] != 0:\n",
    "                return True\n",
    "        return False\n",
    "    \n",
    "    def one_game():\n",
    "        #[0 1 2\n",
    "        # 3 4 5\n",
    "        # 6 7 8]\n",
    "        board = [0, 0, 0, 0, 0, 0, 0, 0, 0]\n",
    "        open_spots = [0, 1, 2, 3, 4, 5, 6, 7, 8]\n",
    "        \n",
    "        players = [1, 2]\n",
    "        \n",
    "        player = 0\n",
    "        \n",
    "        while len(open_spots) > 0:\n",
    "            board, open_spots = player_move(players[player], board, open_spots)\n",
    "            \n",
    "            if(win_check(board)):\n",
    "                return players[player]\n",
    "            player = not player\n",
    "\n",
    "        return 0\n",
    "    \n",
    "    # 0 for scratch, 1 for p1, 2 for p2\n",
    "    \n",
    "    def simulate(it=iterations):\n",
    "        p1_wins = 0\n",
    "        p2_wins = 0\n",
    "        for i in range(it):\n",
    "            result = one_game()\n",
    "            if result == 1:\n",
    "                p1_wins += 1\n",
    "            elif result == 2:\n",
    "                p2_wins += 1\n",
    "        \n",
    "        print(\"p1 won {} out of {}\".format(p1_wins, it))\n",
    "        print(\"p2 won {} out of {}\".format(p2_wins, it))\n",
    "        print(\"The game ended in a draw {} out of {}\".format(it-p1_wins-p2_wins, it))\n",
    "        print()\n",
    "        print(\"p1   won {:.3f} percent of the time\".format(p1_wins/it*100))\n",
    "        print(\"p2   won {:.3f} percent of the time\".format(p2_wins/it*100))\n",
    "        print(\"draw won {:.3f} percent of the time\".format((it-p1_wins-p2_wins)/it*100))\n",
    "        \n",
    "    simulate()\n",
    "    \n",
    "tictactoe(12345)"
   ]
  }
 ],
 "metadata": {
  "kernelspec": {
   "display_name": "Python 3",
   "language": "python",
   "name": "python3"
  },
  "language_info": {
   "codemirror_mode": {
    "name": "ipython",
    "version": 3
   },
   "file_extension": ".py",
   "mimetype": "text/x-python",
   "name": "python",
   "nbconvert_exporter": "python",
   "pygments_lexer": "ipython3",
   "version": "3.6.3"
  }
 },
 "nbformat": 4,
 "nbformat_minor": 2
}
